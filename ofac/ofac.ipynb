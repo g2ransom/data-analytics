{
 "cells": [
  {
   "cell_type": "code",
   "execution_count": 1,
   "metadata": {},
   "outputs": [],
   "source": [
    "import pandas as pd\n",
    "import numpy as np\n",
    "from math import asin, sqrt, sin, cos, acos, radians, pi\n",
    "from ast import literal_eval\n",
    "import matplotlib.pyplot as plt\n",
    "%matplotlib inline"
   ]
  },
  {
   "cell_type": "code",
   "execution_count": 2,
   "metadata": {},
   "outputs": [],
   "source": [
    "df = pd.read_csv('ofac.csv', encoding='utf8')"
   ]
  },
  {
   "cell_type": "code",
   "execution_count": 3,
   "metadata": {},
   "outputs": [
    {
     "data": {
      "text/plain": [
       "(66920, 7)"
      ]
     },
     "execution_count": 3,
     "metadata": {},
     "output_type": "execute_result"
    }
   ],
   "source": [
    "df.shape"
   ]
  },
  {
   "cell_type": "code",
   "execution_count": 4,
   "metadata": {},
   "outputs": [
    {
     "data": {
      "text/html": [
       "<div>\n",
       "<style>\n",
       "    .dataframe thead tr:only-child th {\n",
       "        text-align: right;\n",
       "    }\n",
       "\n",
       "    .dataframe thead th {\n",
       "        text-align: left;\n",
       "    }\n",
       "\n",
       "    .dataframe tbody tr th {\n",
       "        vertical-align: top;\n",
       "    }\n",
       "</style>\n",
       "<table border=\"1\" class=\"dataframe\">\n",
       "  <thead>\n",
       "    <tr style=\"text-align: right;\">\n",
       "      <th></th>\n",
       "      <th>Unnamed: 0</th>\n",
       "      <th>City Names</th>\n",
       "      <th>Country Codes</th>\n",
       "      <th>Country Names</th>\n",
       "      <th>IP Addresses</th>\n",
       "      <th>Longtitude, Latitude</th>\n",
       "      <th>Region Names</th>\n",
       "    </tr>\n",
       "  </thead>\n",
       "  <tbody>\n",
       "    <tr>\n",
       "      <th>0</th>\n",
       "      <td>0</td>\n",
       "      <td>Utrecht</td>\n",
       "      <td>NL</td>\n",
       "      <td>Netherlands</td>\n",
       "      <td>145.161.251.84</td>\n",
       "      <td>[5.1228, 52.0916]</td>\n",
       "      <td>Provincie Utrecht</td>\n",
       "    </tr>\n",
       "    <tr>\n",
       "      <th>1</th>\n",
       "      <td>1</td>\n",
       "      <td>NaN</td>\n",
       "      <td>DE</td>\n",
       "      <td>Germany</td>\n",
       "      <td>79.213.25.185</td>\n",
       "      <td>[9.491, 51.2993]</td>\n",
       "      <td>NaN</td>\n",
       "    </tr>\n",
       "    <tr>\n",
       "      <th>2</th>\n",
       "      <td>2</td>\n",
       "      <td>Sulzbach</td>\n",
       "      <td>DE</td>\n",
       "      <td>Germany</td>\n",
       "      <td>2a02:810c:580:1cf4:19cf:dae7:e939:a6ea</td>\n",
       "      <td>[7.0667, 49.3]</td>\n",
       "      <td>Saarland</td>\n",
       "    </tr>\n",
       "    <tr>\n",
       "      <th>3</th>\n",
       "      <td>3</td>\n",
       "      <td>NaN</td>\n",
       "      <td>JP</td>\n",
       "      <td>Japan</td>\n",
       "      <td>133.190.247.59</td>\n",
       "      <td>[139.69, 35.69]</td>\n",
       "      <td>NaN</td>\n",
       "    </tr>\n",
       "    <tr>\n",
       "      <th>4</th>\n",
       "      <td>5</td>\n",
       "      <td>NaN</td>\n",
       "      <td>DE</td>\n",
       "      <td>Germany</td>\n",
       "      <td>213.68.153.184</td>\n",
       "      <td>[9.491, 51.2993]</td>\n",
       "      <td>NaN</td>\n",
       "    </tr>\n",
       "  </tbody>\n",
       "</table>\n",
       "</div>"
      ],
      "text/plain": [
       "   Unnamed: 0 City Names Country Codes Country Names  \\\n",
       "0           0    Utrecht            NL   Netherlands   \n",
       "1           1        NaN            DE       Germany   \n",
       "2           2   Sulzbach            DE       Germany   \n",
       "3           3        NaN            JP         Japan   \n",
       "4           5        NaN            DE       Germany   \n",
       "\n",
       "                             IP Addresses Longtitude, Latitude  \\\n",
       "0                          145.161.251.84    [5.1228, 52.0916]   \n",
       "1                           79.213.25.185     [9.491, 51.2993]   \n",
       "2  2a02:810c:580:1cf4:19cf:dae7:e939:a6ea       [7.0667, 49.3]   \n",
       "3                          133.190.247.59      [139.69, 35.69]   \n",
       "4                          213.68.153.184     [9.491, 51.2993]   \n",
       "\n",
       "        Region Names  \n",
       "0  Provincie Utrecht  \n",
       "1                NaN  \n",
       "2           Saarland  \n",
       "3                NaN  \n",
       "4                NaN  "
      ]
     },
     "execution_count": 4,
     "metadata": {},
     "output_type": "execute_result"
    }
   ],
   "source": [
    "df.head()"
   ]
  },
  {
   "cell_type": "code",
   "execution_count": 5,
   "metadata": {},
   "outputs": [],
   "source": [
    "df['Longtitude, Latitude'] = df['Longtitude, Latitude'].apply(literal_eval)"
   ]
  },
  {
   "cell_type": "code",
   "execution_count": 6,
   "metadata": {},
   "outputs": [],
   "source": [
    "df = df[df['Longtitude, Latitude'] != '[None, None]']\n",
    "df = df[['City Names', 'Country Codes', 'Country Names', 'IP Addresses', 'Longtitude, Latitude', 'Region Names']]"
   ]
  },
  {
   "cell_type": "code",
   "execution_count": 7,
   "metadata": {},
   "outputs": [
    {
     "data": {
      "text/plain": [
       "(66920, 6)"
      ]
     },
     "execution_count": 7,
     "metadata": {},
     "output_type": "execute_result"
    }
   ],
   "source": [
    "df.shape"
   ]
  },
  {
   "cell_type": "code",
   "execution_count": 8,
   "metadata": {},
   "outputs": [
    {
     "data": {
      "text/plain": [
       "City Names              object\n",
       "Country Codes           object\n",
       "Country Names           object\n",
       "IP Addresses            object\n",
       "Longtitude, Latitude    object\n",
       "Region Names            object\n",
       "dtype: object"
      ]
     },
     "execution_count": 8,
     "metadata": {},
     "output_type": "execute_result"
    }
   ],
   "source": [
    "df.dtypes"
   ]
  },
  {
   "cell_type": "markdown",
   "metadata": {},
   "source": [
    "Functions for distance using spherical coordinates"
   ]
  },
  {
   "cell_type": "code",
   "execution_count": 9,
   "metadata": {},
   "outputs": [
    {
     "name": "stdout",
     "output_type": "stream",
     "text": [
      "<type 'list'>\n"
     ]
    }
   ],
   "source": [
    "print type(df.at[0, 'Longtitude, Latitude'])"
   ]
  },
  {
   "cell_type": "markdown",
   "metadata": {},
   "source": [
    "Find the distances between Crimea and each longtitude and latitude in the dataframe"
   ]
  },
  {
   "cell_type": "code",
   "execution_count": 10,
   "metadata": {},
   "outputs": [],
   "source": [
    "def distance(coordinates, long2, lat2, distance_formula, radius_km):\n",
    "    if isinstance(coordinates[0], float) and isinstance(coordinates[1], float):\n",
    "        long1 = radians(coordinates[0])\n",
    "        lat1 = radians(coordinates[1])\n",
    "        d = distance_formula(long1, lat1, long2, lat2)\n",
    "        distance_km = radius_km * d\n",
    "        return distance_km\n",
    "    else:\n",
    "        return 1\n",
    "    \n",
    "def haversine(long1, lat1, long2, lat2):\n",
    "    return 2*asin(sqrt((sin((lat2-lat1)/2))**2 + cos(lat1)*cos(lat2)*(sin((long2-long1)/2))**2))\n",
    "\n",
    "df['Distance'] = df['Longtitude, Latitude'].apply(distance, args=(45.3453, 34.4997, haversine, 6371))"
   ]
  },
  {
   "cell_type": "markdown",
   "metadata": {},
   "source": [
    "Check to see if there were any non-float values in the dataframe"
   ]
  },
  {
   "cell_type": "code",
   "execution_count": 11,
   "metadata": {},
   "outputs": [],
   "source": [
    "df = df[df['Distance'] != 1.0]"
   ]
  },
  {
   "cell_type": "code",
   "execution_count": 12,
   "metadata": {},
   "outputs": [
    {
     "data": {
      "text/html": [
       "<div>\n",
       "<style>\n",
       "    .dataframe thead tr:only-child th {\n",
       "        text-align: right;\n",
       "    }\n",
       "\n",
       "    .dataframe thead th {\n",
       "        text-align: left;\n",
       "    }\n",
       "\n",
       "    .dataframe tbody tr th {\n",
       "        vertical-align: top;\n",
       "    }\n",
       "</style>\n",
       "<table border=\"1\" class=\"dataframe\">\n",
       "  <thead>\n",
       "    <tr style=\"text-align: right;\">\n",
       "      <th></th>\n",
       "      <th>City Names</th>\n",
       "      <th>Country Codes</th>\n",
       "      <th>Country Names</th>\n",
       "      <th>IP Addresses</th>\n",
       "      <th>Longtitude, Latitude</th>\n",
       "      <th>Region Names</th>\n",
       "      <th>Distance</th>\n",
       "    </tr>\n",
       "  </thead>\n",
       "  <tbody>\n",
       "    <tr>\n",
       "      <th>0</th>\n",
       "      <td>Utrecht</td>\n",
       "      <td>NL</td>\n",
       "      <td>Netherlands</td>\n",
       "      <td>145.161.251.84</td>\n",
       "      <td>[5.1228, 52.0916]</td>\n",
       "      <td>Provincie Utrecht</td>\n",
       "      <td>10864.034455</td>\n",
       "    </tr>\n",
       "    <tr>\n",
       "      <th>1</th>\n",
       "      <td>NaN</td>\n",
       "      <td>DE</td>\n",
       "      <td>Germany</td>\n",
       "      <td>79.213.25.185</td>\n",
       "      <td>[9.491, 51.2993]</td>\n",
       "      <td>NaN</td>\n",
       "      <td>11177.626232</td>\n",
       "    </tr>\n",
       "    <tr>\n",
       "      <th>2</th>\n",
       "      <td>Sulzbach</td>\n",
       "      <td>DE</td>\n",
       "      <td>Germany</td>\n",
       "      <td>2a02:810c:580:1cf4:19cf:dae7:e939:a6ea</td>\n",
       "      <td>[7.0667, 49.3]</td>\n",
       "      <td>Saarland</td>\n",
       "      <td>11081.942111</td>\n",
       "    </tr>\n",
       "    <tr>\n",
       "      <th>3</th>\n",
       "      <td>NaN</td>\n",
       "      <td>JP</td>\n",
       "      <td>Japan</td>\n",
       "      <td>133.190.247.59</td>\n",
       "      <td>[139.69, 35.69]</td>\n",
       "      <td>NaN</td>\n",
       "      <td>12299.170429</td>\n",
       "    </tr>\n",
       "    <tr>\n",
       "      <th>4</th>\n",
       "      <td>NaN</td>\n",
       "      <td>DE</td>\n",
       "      <td>Germany</td>\n",
       "      <td>213.68.153.184</td>\n",
       "      <td>[9.491, 51.2993]</td>\n",
       "      <td>NaN</td>\n",
       "      <td>11177.626232</td>\n",
       "    </tr>\n",
       "  </tbody>\n",
       "</table>\n",
       "</div>"
      ],
      "text/plain": [
       "  City Names Country Codes Country Names  \\\n",
       "0    Utrecht            NL   Netherlands   \n",
       "1        NaN            DE       Germany   \n",
       "2   Sulzbach            DE       Germany   \n",
       "3        NaN            JP         Japan   \n",
       "4        NaN            DE       Germany   \n",
       "\n",
       "                             IP Addresses Longtitude, Latitude  \\\n",
       "0                          145.161.251.84    [5.1228, 52.0916]   \n",
       "1                           79.213.25.185     [9.491, 51.2993]   \n",
       "2  2a02:810c:580:1cf4:19cf:dae7:e939:a6ea       [7.0667, 49.3]   \n",
       "3                          133.190.247.59      [139.69, 35.69]   \n",
       "4                          213.68.153.184     [9.491, 51.2993]   \n",
       "\n",
       "        Region Names      Distance  \n",
       "0  Provincie Utrecht  10864.034455  \n",
       "1                NaN  11177.626232  \n",
       "2           Saarland  11081.942111  \n",
       "3                NaN  12299.170429  \n",
       "4                NaN  11177.626232  "
      ]
     },
     "execution_count": 12,
     "metadata": {},
     "output_type": "execute_result"
    }
   ],
   "source": [
    "df.head()"
   ]
  },
  {
   "cell_type": "code",
   "execution_count": 13,
   "metadata": {},
   "outputs": [],
   "source": [
    "def radius(area):\n",
    "    return sqrt(area/pi)\n",
    "crimean_distance = radius(27000)"
   ]
  },
  {
   "cell_type": "code",
   "execution_count": 14,
   "metadata": {},
   "outputs": [],
   "source": [
    "df['Crimean'] = df['Distance'].apply(lambda x: 1 if x <= crimean_distance else 0)"
   ]
  },
  {
   "cell_type": "code",
   "execution_count": 15,
   "metadata": {},
   "outputs": [
    {
     "data": {
      "text/plain": [
       "0    66874\n",
       "Name: Crimean, dtype: int64"
      ]
     },
     "execution_count": 15,
     "metadata": {},
     "output_type": "execute_result"
    }
   ],
   "source": [
    "df['Crimean'].value_counts()"
   ]
  },
  {
   "cell_type": "code",
   "execution_count": 16,
   "metadata": {},
   "outputs": [],
   "source": [
    "lat_long = df['Longtitude, Latitude'].tolist()\n",
    "\n",
    "longs = [i[0] for i in lat_long]\n",
    "lats = [i[1] for i in lat_long]"
   ]
  },
  {
   "cell_type": "code",
   "execution_count": 17,
   "metadata": {},
   "outputs": [
    {
     "data": {
      "image/png": "[encoded data removed]",
      "text/plain": [
       "<matplotlib.figure.Figure at 0x108c35910>"
      ]
     },
     "metadata": {},
     "output_type": "display_data"
    }
   ],
   "source": [
    "circle = plt.Circle((45.3453, 34.4997), fill=False)\n",
    "ax = plt.gca()\n",
    "ax.scatter(longs, lats)\n",
    "ax.add_artist(circle)\n",
    "plt.show()"
   ]
  },
  {
   "cell_type": "markdown",
   "metadata": {},
   "source": [
    "Analysis of IP Addresses for Sanctioned Regions"
   ]
  },
  {
   "cell_type": "code",
   "execution_count": 22,
   "metadata": {},
   "outputs": [],
   "source": [
    "country_df = df.groupby('Country Names')['IP Addresses'].count()"
   ]
  },
  {
   "cell_type": "code",
   "execution_count": 19,
   "metadata": {},
   "outputs": [],
   "source": [
    "sanctions_df = country_df.loc[['Iran', 'Iraq', 'North Korea', 'Syria', 'Cuba', 'Sudan']]"
   ]
  },
  {
   "cell_type": "code",
   "execution_count": 20,
   "metadata": {},
   "outputs": [
    {
     "data": {
      "text/plain": [
       "Country Names\n",
       "Iran           128.0\n",
       "Iraq             4.0\n",
       "North Korea      NaN\n",
       "Syria           12.0\n",
       "Cuba             4.0\n",
       "Sudan           14.0\n",
       "Name: IP Addresses, dtype: float64"
      ]
     },
     "execution_count": 20,
     "metadata": {},
     "output_type": "execute_result"
    }
   ],
   "source": [
    "sanctions_df"
   ]
  },
  {
   "cell_type": "code",
   "execution_count": 29,
   "metadata": {},
   "outputs": [
    {
     "data": {
      "text/plain": [
       "<matplotlib.axes._subplots.AxesSubplot at 0x10adc28d0>"
      ]
     },
     "execution_count": 29,
     "metadata": {},
     "output_type": "execute_result"
    },
    {
     "data": {
      "image/png": "[encoded data removed]",
      "text/plain": [
       "<matplotlib.figure.Figure at 0x10a8d4c90>"
      ]
     },
     "metadata": {},
     "output_type": "display_data"
    }
   ],
   "source": [
    "sanctions_df.plot.bar(title='Number of Users for Sanctioned Countries')"
   ]
  },
  {
   "cell_type": "code",
   "execution_count": 28,
   "metadata": {},
   "outputs": [
    {
     "data": {
      "text/plain": [
       "<matplotlib.axes._subplots.AxesSubplot at 0x10a8b4dd0>"
      ]
     },
     "execution_count": 28,
     "metadata": {},
     "output_type": "execute_result"
    },
    {
     "data": {
      "image/png": "[encoded data removed]",
      "text/plain": [
       "<matplotlib.figure.Figure at 0x10a6c26d0>"
      ]
     },
     "metadata": {},
     "output_type": "display_data"
    }
   ],
   "source": [
    "x = country_df.sort_values(ascending=False)\n",
    "top_five = x[0:5]\n",
    "top_five.plot(kind='bar', color='k', title='Top Five Countries by IP Address')"
   ]
  }
 ],
 "metadata": {
  "kernelspec": {
   "display_name": "Python 2",
   "language": "python",
   "name": "python2"
  },
  "language_info": {
   "codemirror_mode": {
    "name": "ipython",
    "version": 2
   },
   "file_extension": ".py",
   "mimetype": "text/x-python",
   "name": "python",
   "nbconvert_exporter": "python",
   "pygments_lexer": "ipython2",
   "version": "2.7.10"
  }
 },
 "nbformat": 4,
 "nbformat_minor": 2
}
