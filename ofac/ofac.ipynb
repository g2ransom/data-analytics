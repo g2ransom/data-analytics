{
 "cells": [
  {
   "cell_type": "markdown",
   "metadata": {},
   "source": [
    "## Overview of OFAC Analysis\n",
    "As an organization, Storj Labs must ensure that we’re not conducting business with the wrong individuals to the best of our knowledge. The Office of Foreign Assets Control is an American government agency in charge of the planning and execution of economic and trade sanctions. The agency keeps a tab of countries and individuals that the U.S. has sanctioned. \n",
    "\n",
    "As an effort to remain steadfast in our business practices, we’ve conducted an analysis of our users to search for nodes from sanctioned countries. Our goal is to prevent payouts to nodes in sanctioned countries as much as humanly possible. Using our database and the [GEOIP2 API](https://pypi.python.org/pypi/geoip2) for geolocation matching, we’ve produced the most accurate picture of the location of our users."
   ]
  },
  {
   "cell_type": "code",
   "execution_count": 2,
   "metadata": {},
   "outputs": [],
   "source": [
    "import pandas as pd\n",
    "import numpy as np\n",
    "from math import asin, sqrt, sin, cos, acos, radians, pi\n",
    "from ast import literal_eval\n",
    "import matplotlib.pyplot as plt\n",
    "%matplotlib inline"
   ]
  },
  {
   "cell_type": "code",
   "execution_count": 3,
   "metadata": {},
   "outputs": [],
   "source": [
    "df = pd.read_csv('ofac.csv', encoding='utf8')"
   ]
  },
  {
   "cell_type": "code",
   "execution_count": 4,
   "metadata": {},
   "outputs": [
    {
     "data": {
      "text/plain": [
       "(66920, 7)"
      ]
     },
     "execution_count": 4,
     "metadata": {},
     "output_type": "execute_result"
    }
   ],
   "source": [
    "df.shape"
   ]
  },
  {
   "cell_type": "code",
   "execution_count": 5,
   "metadata": {},
   "outputs": [
    {
     "data": {
      "text/html": [
       "<div>\n",
       "<style scoped>\n",
       "    .dataframe tbody tr th:only-of-type {\n",
       "        vertical-align: middle;\n",
       "    }\n",
       "\n",
       "    .dataframe tbody tr th {\n",
       "        vertical-align: top;\n",
       "    }\n",
       "\n",
       "    .dataframe thead th {\n",
       "        text-align: right;\n",
       "    }\n",
       "</style>\n",
       "<table border=\"1\" class=\"dataframe\">\n",
       "  <thead>\n",
       "    <tr style=\"text-align: right;\">\n",
       "      <th></th>\n",
       "      <th>Unnamed: 0</th>\n",
       "      <th>City Names</th>\n",
       "      <th>Country Codes</th>\n",
       "      <th>Country Names</th>\n",
       "      <th>IP Addresses</th>\n",
       "      <th>Longtitude, Latitude</th>\n",
       "      <th>Region Names</th>\n",
       "    </tr>\n",
       "  </thead>\n",
       "  <tbody>\n",
       "    <tr>\n",
       "      <th>0</th>\n",
       "      <td>0</td>\n",
       "      <td>Utrecht</td>\n",
       "      <td>NL</td>\n",
       "      <td>Netherlands</td>\n",
       "      <td>145.161.251.84</td>\n",
       "      <td>(5.1228, 52.0916)</td>\n",
       "      <td>Provincie Utrecht</td>\n",
       "    </tr>\n",
       "    <tr>\n",
       "      <th>1</th>\n",
       "      <td>1</td>\n",
       "      <td>NaN</td>\n",
       "      <td>DE</td>\n",
       "      <td>Germany</td>\n",
       "      <td>79.213.25.185</td>\n",
       "      <td>(9.491, 51.2993)</td>\n",
       "      <td>NaN</td>\n",
       "    </tr>\n",
       "    <tr>\n",
       "      <th>2</th>\n",
       "      <td>2</td>\n",
       "      <td>Sulzbach</td>\n",
       "      <td>DE</td>\n",
       "      <td>Germany</td>\n",
       "      <td>2a02:810c:580:1cf4:19cf:dae7:e939:a6ea</td>\n",
       "      <td>(7.0667, 49.3)</td>\n",
       "      <td>Saarland</td>\n",
       "    </tr>\n",
       "    <tr>\n",
       "      <th>3</th>\n",
       "      <td>3</td>\n",
       "      <td>NaN</td>\n",
       "      <td>JP</td>\n",
       "      <td>Japan</td>\n",
       "      <td>133.190.247.59</td>\n",
       "      <td>(139.69, 35.69)</td>\n",
       "      <td>NaN</td>\n",
       "    </tr>\n",
       "    <tr>\n",
       "      <th>4</th>\n",
       "      <td>5</td>\n",
       "      <td>NaN</td>\n",
       "      <td>DE</td>\n",
       "      <td>Germany</td>\n",
       "      <td>213.68.153.184</td>\n",
       "      <td>(9.491, 51.2993)</td>\n",
       "      <td>NaN</td>\n",
       "    </tr>\n",
       "  </tbody>\n",
       "</table>\n",
       "</div>"
      ],
      "text/plain": [
       "   Unnamed: 0 City Names Country Codes Country Names  \\\n",
       "0           0    Utrecht            NL   Netherlands   \n",
       "1           1        NaN            DE       Germany   \n",
       "2           2   Sulzbach            DE       Germany   \n",
       "3           3        NaN            JP         Japan   \n",
       "4           5        NaN            DE       Germany   \n",
       "\n",
       "                             IP Addresses Longtitude, Latitude  \\\n",
       "0                          145.161.251.84    (5.1228, 52.0916)   \n",
       "1                           79.213.25.185     (9.491, 51.2993)   \n",
       "2  2a02:810c:580:1cf4:19cf:dae7:e939:a6ea       (7.0667, 49.3)   \n",
       "3                          133.190.247.59      (139.69, 35.69)   \n",
       "4                          213.68.153.184     (9.491, 51.2993)   \n",
       "\n",
       "        Region Names  \n",
       "0  Provincie Utrecht  \n",
       "1                NaN  \n",
       "2           Saarland  \n",
       "3                NaN  \n",
       "4                NaN  "
      ]
     },
     "execution_count": 5,
     "metadata": {},
     "output_type": "execute_result"
    }
   ],
   "source": [
    "df.head()"
   ]
  },
  {
   "cell_type": "code",
   "execution_count": 6,
   "metadata": {},
   "outputs": [],
   "source": [
    "df['Longtitude, Latitude'] = df['Longtitude, Latitude'].apply(literal_eval)"
   ]
  },
  {
   "cell_type": "code",
   "execution_count": 7,
   "metadata": {},
   "outputs": [],
   "source": [
    "df = df[df['Longtitude, Latitude'] != '[None, None]']\n",
    "df = df[['City Names', 'Country Codes', 'Country Names', 'IP Addresses', 'Longtitude, Latitude', 'Region Names']]"
   ]
  },
  {
   "cell_type": "code",
   "execution_count": 8,
   "metadata": {},
   "outputs": [
    {
     "data": {
      "text/plain": [
       "(66920, 6)"
      ]
     },
     "execution_count": 8,
     "metadata": {},
     "output_type": "execute_result"
    }
   ],
   "source": [
    "df.shape"
   ]
  },
  {
   "cell_type": "code",
   "execution_count": 9,
   "metadata": {},
   "outputs": [
    {
     "data": {
      "text/plain": [
       "City Names              object\n",
       "Country Codes           object\n",
       "Country Names           object\n",
       "IP Addresses            object\n",
       "Longtitude, Latitude    object\n",
       "Region Names            object\n",
       "dtype: object"
      ]
     },
     "execution_count": 9,
     "metadata": {},
     "output_type": "execute_result"
    }
   ],
   "source": [
    "df.dtypes"
   ]
  },
  {
   "cell_type": "code",
   "execution_count": 10,
   "metadata": {},
   "outputs": [
    {
     "name": "stdout",
     "output_type": "stream",
     "text": [
      "<type 'tuple'>\n"
     ]
    }
   ],
   "source": [
    "print type(df.at[0, 'Longtitude, Latitude'])"
   ]
  },
  {
   "cell_type": "markdown",
   "metadata": {},
   "source": [
    "### Crimean Analysis\n",
    "\n",
    "[Crimea](https://en.wikipedia.org/wiki/Crimea) is one of our listed sanctioned regions in Eastern Europe. However, finding IP Addresses within the region is a bit more involved. Using spherical trogonometry, we're able to find all IP addresses within a certain distance of Crimea's central location coordinates. In this case, we utilized the [haversine formula](https://en.wikipedia.org/wiki/Haversine_formula) to calculate the distance between each row of our dataframe and our crimean coordinates. Using the area formula, we took Crimea's area to calculate its radius. To determine whether a node was in the Crimean region or not, we set a boolean expression to flag all nodes within our given radius.\n",
    "\n",
    "After conducting the analysis, we found that none of our nodes are from the region."
   ]
  },
  {
   "cell_type": "code",
   "execution_count": 11,
   "metadata": {},
   "outputs": [],
   "source": [
    "def distance(coordinates, long2, lat2, distance_formula, radius_km):\n",
    "    if isinstance(coordinates[0], float) and isinstance(coordinates[1], float):\n",
    "        long1 = radians(coordinates[0])\n",
    "        lat1 = radians(coordinates[1])\n",
    "        d = distance_formula(long1, lat1, long2, lat2)\n",
    "        distance_km = radius_km * d\n",
    "        return distance_km\n",
    "    else:\n",
    "        return 1\n",
    "    \n",
    "def haversine(long1, lat1, long2, lat2):\n",
    "    return 2*asin(sqrt((sin((lat2-lat1)/2))**2 + cos(lat1)*cos(lat2)*(sin((long2-long1)/2))**2))\n",
    "\n",
    "df['Distance'] = df['Longtitude, Latitude'].apply(distance, args=(45.3453, 34.4997, haversine, 6371))"
   ]
  },
  {
   "cell_type": "markdown",
   "metadata": {},
   "source": [
    "Filter any non-float values in the dataframe"
   ]
  },
  {
   "cell_type": "code",
   "execution_count": 12,
   "metadata": {},
   "outputs": [],
   "source": [
    "df = df[df['Distance'] != 1.0]"
   ]
  },
  {
   "cell_type": "code",
   "execution_count": 13,
   "metadata": {},
   "outputs": [
    {
     "data": {
      "text/html": [
       "<div>\n",
       "<style scoped>\n",
       "    .dataframe tbody tr th:only-of-type {\n",
       "        vertical-align: middle;\n",
       "    }\n",
       "\n",
       "    .dataframe tbody tr th {\n",
       "        vertical-align: top;\n",
       "    }\n",
       "\n",
       "    .dataframe thead th {\n",
       "        text-align: right;\n",
       "    }\n",
       "</style>\n",
       "<table border=\"1\" class=\"dataframe\">\n",
       "  <thead>\n",
       "    <tr style=\"text-align: right;\">\n",
       "      <th></th>\n",
       "      <th>City Names</th>\n",
       "      <th>Country Codes</th>\n",
       "      <th>Country Names</th>\n",
       "      <th>IP Addresses</th>\n",
       "      <th>Longtitude, Latitude</th>\n",
       "      <th>Region Names</th>\n",
       "      <th>Distance</th>\n",
       "    </tr>\n",
       "  </thead>\n",
       "  <tbody>\n",
       "    <tr>\n",
       "      <th>0</th>\n",
       "      <td>Utrecht</td>\n",
       "      <td>NL</td>\n",
       "      <td>Netherlands</td>\n",
       "      <td>145.161.251.84</td>\n",
       "      <td>(5.1228, 52.0916)</td>\n",
       "      <td>Provincie Utrecht</td>\n",
       "      <td>10864.034455</td>\n",
       "    </tr>\n",
       "    <tr>\n",
       "      <th>1</th>\n",
       "      <td>NaN</td>\n",
       "      <td>DE</td>\n",
       "      <td>Germany</td>\n",
       "      <td>79.213.25.185</td>\n",
       "      <td>(9.491, 51.2993)</td>\n",
       "      <td>NaN</td>\n",
       "      <td>11177.626232</td>\n",
       "    </tr>\n",
       "    <tr>\n",
       "      <th>2</th>\n",
       "      <td>Sulzbach</td>\n",
       "      <td>DE</td>\n",
       "      <td>Germany</td>\n",
       "      <td>2a02:810c:580:1cf4:19cf:dae7:e939:a6ea</td>\n",
       "      <td>(7.0667, 49.3)</td>\n",
       "      <td>Saarland</td>\n",
       "      <td>11081.942111</td>\n",
       "    </tr>\n",
       "    <tr>\n",
       "      <th>3</th>\n",
       "      <td>NaN</td>\n",
       "      <td>JP</td>\n",
       "      <td>Japan</td>\n",
       "      <td>133.190.247.59</td>\n",
       "      <td>(139.69, 35.69)</td>\n",
       "      <td>NaN</td>\n",
       "      <td>12299.170429</td>\n",
       "    </tr>\n",
       "    <tr>\n",
       "      <th>4</th>\n",
       "      <td>NaN</td>\n",
       "      <td>DE</td>\n",
       "      <td>Germany</td>\n",
       "      <td>213.68.153.184</td>\n",
       "      <td>(9.491, 51.2993)</td>\n",
       "      <td>NaN</td>\n",
       "      <td>11177.626232</td>\n",
       "    </tr>\n",
       "  </tbody>\n",
       "</table>\n",
       "</div>"
      ],
      "text/plain": [
       "  City Names Country Codes Country Names  \\\n",
       "0    Utrecht            NL   Netherlands   \n",
       "1        NaN            DE       Germany   \n",
       "2   Sulzbach            DE       Germany   \n",
       "3        NaN            JP         Japan   \n",
       "4        NaN            DE       Germany   \n",
       "\n",
       "                             IP Addresses Longtitude, Latitude  \\\n",
       "0                          145.161.251.84    (5.1228, 52.0916)   \n",
       "1                           79.213.25.185     (9.491, 51.2993)   \n",
       "2  2a02:810c:580:1cf4:19cf:dae7:e939:a6ea       (7.0667, 49.3)   \n",
       "3                          133.190.247.59      (139.69, 35.69)   \n",
       "4                          213.68.153.184     (9.491, 51.2993)   \n",
       "\n",
       "        Region Names      Distance  \n",
       "0  Provincie Utrecht  10864.034455  \n",
       "1                NaN  11177.626232  \n",
       "2           Saarland  11081.942111  \n",
       "3                NaN  12299.170429  \n",
       "4                NaN  11177.626232  "
      ]
     },
     "execution_count": 13,
     "metadata": {},
     "output_type": "execute_result"
    }
   ],
   "source": [
    "df.head()"
   ]
  },
  {
   "cell_type": "code",
   "execution_count": 14,
   "metadata": {},
   "outputs": [],
   "source": [
    "def radius(area):\n",
    "    return sqrt(area/pi)\n",
    "crimean_distance = radius(27000)"
   ]
  },
  {
   "cell_type": "code",
   "execution_count": 15,
   "metadata": {},
   "outputs": [],
   "source": [
    "df['Crimean'] = df['Distance'].apply(lambda x: 1 if x <= crimean_distance else 0)"
   ]
  },
  {
   "cell_type": "code",
   "execution_count": 16,
   "metadata": {},
   "outputs": [
    {
     "data": {
      "text/plain": [
       "0    66874\n",
       "Name: Crimean, dtype: int64"
      ]
     },
     "execution_count": 16,
     "metadata": {},
     "output_type": "execute_result"
    }
   ],
   "source": [
    "df['Crimean'].value_counts()"
   ]
  },
  {
   "cell_type": "markdown",
   "metadata": {},
   "source": [
    "## Visualizations"
   ]
  },
  {
   "cell_type": "code",
   "execution_count": 17,
   "metadata": {},
   "outputs": [],
   "source": [
    "lat_long = df['Longtitude, Latitude'].tolist()\n",
    "\n",
    "longs = [i[0] for i in lat_long]\n",
    "lats = [i[1] for i in lat_long]"
   ]
  },
  {
   "cell_type": "markdown",
   "metadata": {},
   "source": [
    "**Visualization of Storj Network's IP Addresses**"
   ]
  },
  {
   "cell_type": "code",
   "execution_count": 18,
   "metadata": {},
   "outputs": [
    {
     "data": {
      "image/png": "[encoded data removed]",
      "text/plain": [
       "<matplotlib.figure.Figure at 0x1110d4210>"
      ]
     },
     "metadata": {},
     "output_type": "display_data"
    }
   ],
   "source": [
    "plt.style.use('ggplot')\n",
    "circle = plt.Circle((45.3453, 34.4997), fill=False)\n",
    "ax = plt.gca()\n",
    "ax.scatter(longs, lats)\n",
    "ax.add_artist(circle)\n",
    "plt.show()"
   ]
  },
  {
   "cell_type": "markdown",
   "metadata": {},
   "source": [
    "**Analysis of IP Addresses for Sanctioned Regions**"
   ]
  },
  {
   "cell_type": "code",
   "execution_count": 20,
   "metadata": {},
   "outputs": [],
   "source": [
    "country_df = df.groupby('Country Names')['IP Addresses'].count()"
   ]
  },
  {
   "cell_type": "code",
   "execution_count": 29,
   "metadata": {},
   "outputs": [
    {
     "name": "stderr",
     "output_type": "stream",
     "text": [
      "/Users/garrettransom/data_analytics/data_env/lib/python2.7/site-packages/ipykernel_launcher.py:1: FutureWarning: \n",
      "Passing list-likes to .loc or [] with any missing label will raise\n",
      "KeyError in the future, you can use .reindex() as an alternative.\n",
      "\n",
      "See the documentation here:\n",
      "http://pandas.pydata.org/pandas-docs/stable/indexing.html#deprecate-loc-reindex-listlike\n",
      "  \"\"\"Entry point for launching an IPython kernel.\n"
     ]
    }
   ],
   "source": [
    "sanctions_df = country_df.loc[['Iran', 'Iraq', 'North Korea', 'Syria', 'Cuba', 'Sudan']]"
   ]
  },
  {
   "cell_type": "code",
   "execution_count": 22,
   "metadata": {},
   "outputs": [
    {
     "data": {
      "text/plain": [
       "Country Names\n",
       "Iran           128.0\n",
       "Iraq             4.0\n",
       "North Korea      NaN\n",
       "Syria           12.0\n",
       "Cuba             4.0\n",
       "Sudan           14.0\n",
       "Name: IP Addresses, dtype: float64"
      ]
     },
     "execution_count": 22,
     "metadata": {},
     "output_type": "execute_result"
    }
   ],
   "source": [
    "sanctions_df"
   ]
  },
  {
   "cell_type": "code",
   "execution_count": 23,
   "metadata": {},
   "outputs": [
    {
     "data": {
      "text/plain": [
       "<matplotlib.axes._subplots.AxesSubplot at 0x1125e3350>"
      ]
     },
     "execution_count": 23,
     "metadata": {},
     "output_type": "execute_result"
    },
    {
     "data": {
      "image/png": "[encoded data removed]",
      "text/plain": [
       "<matplotlib.figure.Figure at 0x10cc2d550>"
      ]
     },
     "metadata": {},
     "output_type": "display_data"
    }
   ],
   "source": [
    "sanctions_df.plot.bar(title='Number of Users for Sanctioned Countries')"
   ]
  },
  {
   "cell_type": "markdown",
   "metadata": {},
   "source": [
    "**Countries with the Most Nodes**"
   ]
  },
  {
   "cell_type": "code",
   "execution_count": 28,
   "metadata": {},
   "outputs": [
    {
     "data": {
      "text/plain": [
       "<matplotlib.axes._subplots.AxesSubplot at 0x111c2f7d0>"
      ]
     },
     "execution_count": 28,
     "metadata": {},
     "output_type": "execute_result"
    },
    {
     "data": {
      "image/png": "[encoded data removed]",
      "text/plain": [
       "<matplotlib.figure.Figure at 0x111c4b4d0>"
      ]
     },
     "metadata": {},
     "output_type": "display_data"
    }
   ],
   "source": [
    "x = country_df.sort_values(ascending=False)\n",
    "top_five = x[0:5]\n",
    "top_five.plot(kind='bar', title='Top Five Countries by IP Address')"
   ]
  },
  {
   "cell_type": "markdown",
   "metadata": {},
   "source": [
    "## Conclusion\n",
    "\n",
    "After conducting our analysis, we see that we have nodes within our database to further investigate. Having 128 nodes from Iran was a surprise and because of the blemishes of geolocation libaries, we'll look to further solidify our intial findings. It is our goal to continue forming an honest, compliant, and high-performing network to our end users."
   ]
  },
  {
   "cell_type": "code",
   "execution_count": null,
   "metadata": {},
   "outputs": [],
   "source": []
  }
 ],
 "metadata": {
  "kernelspec": {
   "display_name": "Python 2",
   "language": "python",
   "name": "python2"
  },
  "language_info": {
   "codemirror_mode": {
    "name": "ipython",
    "version": 2
   },
   "file_extension": ".py",
   "mimetype": "text/x-python",
   "name": "python",
   "nbconvert_exporter": "python",
   "pygments_lexer": "ipython2",
   "version": "2.7.10"
  }
 },
 "nbformat": 4,
 "nbformat_minor": 2
}
