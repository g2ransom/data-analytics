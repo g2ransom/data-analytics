{
 "cells": [
  {
   "cell_type": "code",
   "execution_count": 7,
   "metadata": {},
   "outputs": [],
   "source": [
    "from hnews_functions import *\n",
    "import numpy as np\n",
    "from string import punctuation\n",
    "from nltk.corpus import stopwords\n",
    "from nltk import word_tokenize"
   ]
  },
  {
   "cell_type": "code",
   "execution_count": 2,
   "metadata": {},
   "outputs": [
    {
     "data": {
      "text/html": [
       "<div>\n",
       "<style scoped>\n",
       "    .dataframe tbody tr th:only-of-type {\n",
       "        vertical-align: middle;\n",
       "    }\n",
       "\n",
       "    .dataframe tbody tr th {\n",
       "        vertical-align: top;\n",
       "    }\n",
       "\n",
       "    .dataframe thead th {\n",
       "        text-align: right;\n",
       "    }\n",
       "</style>\n",
       "<table border=\"1\" class=\"dataframe\">\n",
       "  <thead>\n",
       "    <tr style=\"text-align: right;\">\n",
       "      <th></th>\n",
       "      <th>by</th>\n",
       "      <th>descendants</th>\n",
       "      <th>score</th>\n",
       "      <th>time</th>\n",
       "      <th>title</th>\n",
       "      <th>type</th>\n",
       "      <th>url</th>\n",
       "      <th>rank</th>\n",
       "    </tr>\n",
       "  </thead>\n",
       "  <tbody>\n",
       "    <tr>\n",
       "      <th>0</th>\n",
       "      <td>doener</td>\n",
       "      <td>51</td>\n",
       "      <td>314</td>\n",
       "      <td>2018-01-29 18:13:29</td>\n",
       "      <td>LinuxBoot</td>\n",
       "      <td>story</td>\n",
       "      <td>https://www.linuxboot.org/</td>\n",
       "      <td>1</td>\n",
       "    </tr>\n",
       "    <tr>\n",
       "      <th>1</th>\n",
       "      <td>konamacona</td>\n",
       "      <td>29</td>\n",
       "      <td>85</td>\n",
       "      <td>2018-01-29 18:35:31</td>\n",
       "      <td>Show HN: Card Proxy Generator – Generate print...</td>\n",
       "      <td>story</td>\n",
       "      <td>http://mitchkeenan.com/cardproxy/</td>\n",
       "      <td>2</td>\n",
       "    </tr>\n",
       "    <tr>\n",
       "      <th>2</th>\n",
       "      <td>lermontov</td>\n",
       "      <td>26</td>\n",
       "      <td>86</td>\n",
       "      <td>2018-01-28 05:23:31</td>\n",
       "      <td>How Schopenhauer’s thought can illuminate a mi...</td>\n",
       "      <td>story</td>\n",
       "      <td>https://aeon.co/ideas/how-schopenhauers-though...</td>\n",
       "      <td>3</td>\n",
       "    </tr>\n",
       "    <tr>\n",
       "      <th>3</th>\n",
       "      <td>walterbell</td>\n",
       "      <td>14</td>\n",
       "      <td>20</td>\n",
       "      <td>2018-01-29 20:48:32</td>\n",
       "      <td>Restoring MacOS device from a snapshot with AP...</td>\n",
       "      <td>story</td>\n",
       "      <td>https://maclovin.org/blog-native/2017/restorin...</td>\n",
       "      <td>4</td>\n",
       "    </tr>\n",
       "    <tr>\n",
       "      <th>4</th>\n",
       "      <td>devy</td>\n",
       "      <td>87</td>\n",
       "      <td>128</td>\n",
       "      <td>2018-01-29 16:19:07</td>\n",
       "      <td>Self-Crashing Cars</td>\n",
       "      <td>story</td>\n",
       "      <td>https://www.zachaysan.com/writing/2018-01-17-s...</td>\n",
       "      <td>5</td>\n",
       "    </tr>\n",
       "  </tbody>\n",
       "</table>\n",
       "</div>"
      ],
      "text/plain": [
       "           by  descendants  score                 time  \\\n",
       "0      doener           51    314  2018-01-29 18:13:29   \n",
       "1  konamacona           29     85  2018-01-29 18:35:31   \n",
       "2   lermontov           26     86  2018-01-28 05:23:31   \n",
       "3  walterbell           14     20  2018-01-29 20:48:32   \n",
       "4        devy           87    128  2018-01-29 16:19:07   \n",
       "\n",
       "                                               title   type  \\\n",
       "0                                          LinuxBoot  story   \n",
       "1  Show HN: Card Proxy Generator – Generate print...  story   \n",
       "2  How Schopenhauer’s thought can illuminate a mi...  story   \n",
       "3  Restoring MacOS device from a snapshot with AP...  story   \n",
       "4                                 Self-Crashing Cars  story   \n",
       "\n",
       "                                                 url  rank  \n",
       "0                         https://www.linuxboot.org/     1  \n",
       "1                  http://mitchkeenan.com/cardproxy/     2  \n",
       "2  https://aeon.co/ideas/how-schopenhauers-though...     3  \n",
       "3  https://maclovin.org/blog-native/2017/restorin...     4  \n",
       "4  https://www.zachaysan.com/writing/2018-01-17-s...     5  "
      ]
     },
     "execution_count": 2,
     "metadata": {},
     "output_type": "execute_result"
    }
   ],
   "source": [
    "conn = sqlite3.connect(\"hackernews.db\")\n",
    "df = pd.read_sql_query(\"SELECT * FROM hackernews\", conn)\n",
    "df.head()"
   ]
  },
  {
   "cell_type": "code",
   "execution_count": 3,
   "metadata": {},
   "outputs": [
    {
     "data": {
      "text/plain": [
       "by               object\n",
       "descendants       int64\n",
       "score             int64\n",
       "time             object\n",
       "title            object\n",
       "type           category\n",
       "url              object\n",
       "rank              int64\n",
       "dtype: object"
      ]
     },
     "execution_count": 3,
     "metadata": {},
     "output_type": "execute_result"
    }
   ],
   "source": [
    "df.type = df.type.astype('category')\n",
    "df.dtypes"
   ]
  },
  {
   "cell_type": "code",
   "execution_count": 4,
   "metadata": {},
   "outputs": [],
   "source": [
    "df = df.dropna(axis=1, how='any')"
   ]
  },
  {
   "cell_type": "code",
   "execution_count": 5,
   "metadata": {},
   "outputs": [
    {
     "data": {
      "text/plain": [
       "by             0\n",
       "descendants    0\n",
       "score          0\n",
       "time           0\n",
       "title          0\n",
       "type           0\n",
       "url            0\n",
       "rank           0\n",
       "dtype: int64"
      ]
     },
     "execution_count": 5,
     "metadata": {},
     "output_type": "execute_result"
    }
   ],
   "source": [
    "df.title.replace(\"\", np.NaN)\n",
    "df.isnull().sum()"
   ]
  },
  {
   "cell_type": "code",
   "execution_count": 8,
   "metadata": {},
   "outputs": [],
   "source": [
    "# Create tokenized list without stopwords\n",
    "# Create list of stop words\n",
    "# Create term frequency function\n",
    "# Create inverse document frequency"
   ]
  },
  {
   "cell_type": "code",
   "execution_count": 9,
   "metadata": {},
   "outputs": [
    {
     "name": "stdout",
     "output_type": "stream",
     "text": [
      "[u'i', u'me', u'my', u'myself', u'we']\n"
     ]
    }
   ],
   "source": [
    "stop_words = stopwords.words(\"english\") + list(punctuation)\n",
    "def tokenize(text):\n",
    "    words = word_tokenize(text)\n",
    "    words = [w.lower() for w in words]\n",
    "    return [w for w in words if w not in stop_words and not w.isdigit()]\n",
    "\n"
   ]
  },
  {
   "cell_type": "code",
   "execution_count": null,
   "metadata": {},
   "outputs": [],
   "source": []
  }
 ],
 "metadata": {
  "kernelspec": {
   "display_name": "Python 2",
   "language": "python",
   "name": "python2"
  },
  "language_info": {
   "codemirror_mode": {
    "name": "ipython",
    "version": 2
   },
   "file_extension": ".py",
   "mimetype": "text/x-python",
   "name": "python",
   "nbconvert_exporter": "python",
   "pygments_lexer": "ipython2",
   "version": "2.7.10"
  }
 },
 "nbformat": 4,
 "nbformat_minor": 2
}
